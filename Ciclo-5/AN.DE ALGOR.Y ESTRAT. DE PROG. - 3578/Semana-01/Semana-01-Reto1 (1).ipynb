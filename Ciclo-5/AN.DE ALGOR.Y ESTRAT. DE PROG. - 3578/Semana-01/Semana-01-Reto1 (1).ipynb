{
 "cells": [
  {
   "cell_type": "code",
   "execution_count": 6,
   "metadata": {},
   "outputs": [
    {
     "name": "stdout",
     "output_type": "stream",
     "text": [
      "10\n",
      "13\n"
     ]
    }
   ],
   "source": [
    "def sumarnp(lista_numeros, si_positivo=False):\n",
    "    suma = 0\n",
    "    for x in lista_numeros:\n",
    "        if si_positivo and x > 0:\n",
    "            suma += x\n",
    "        elif not si_positivo:\n",
    "            suma += x\n",
    "    return suma\n",
    "# Probando con la lista [7, 6, -3] sin filtro\n",
    "print(sumarnp([7, 6, -3]))  # Esto debería devolver 10 (sin filtro de positivos)\n",
    "\n",
    "# Probando con la lista [7, 6, -3] y el filtro de positivos\n",
    "print(sumarnp([7, 6, -3], si_positivo=True))  # Esto debería devolver 13 (solo suma los positivos)\n"
   ]
  }
 ],
 "metadata": {
  "kernelspec": {
   "display_name": "Python 3",
   "language": "python",
   "name": "python3"
  },
  "language_info": {
   "codemirror_mode": {
    "name": "ipython",
    "version": 3
   },
   "file_extension": ".py",
   "mimetype": "text/x-python",
   "name": "python",
   "nbconvert_exporter": "python",
   "pygments_lexer": "ipython3",
   "version": "3.11.9"
  }
 },
 "nbformat": 4,
 "nbformat_minor": 2
}
