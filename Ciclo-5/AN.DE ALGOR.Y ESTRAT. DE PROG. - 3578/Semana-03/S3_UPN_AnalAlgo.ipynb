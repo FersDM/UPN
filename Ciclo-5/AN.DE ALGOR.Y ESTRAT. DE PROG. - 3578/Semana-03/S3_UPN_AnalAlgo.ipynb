{
  "nbformat": 4,
  "nbformat_minor": 0,
  "metadata": {
    "colab": {
      "provenance": []
    },
    "kernelspec": {
      "name": "python3",
      "display_name": "Python 3"
    },
    "language_info": {
      "name": "python"
    }
  },
  "cells": [
    {
      "cell_type": "markdown",
      "source": [
        "#Ejercicio 01"
      ],
      "metadata": {
        "id": "EPZwEiHL2bD_"
      }
    },
    {
      "cell_type": "code",
      "source": [
        "\"\"\"\n",
        "Dado un monto de monedas encontrar:\n",
        "1.- el numero minimo de monedas necesarios para dar un monto\n",
        "\"\"\""
      ],
      "metadata": {
        "id": "02OMls00q8oz"
      },
      "execution_count": null,
      "outputs": []
    },
    {
      "cell_type": "code",
      "source": [
        "#moneda = [25,10,5,1]\n",
        "#a = sorted(moneda)\n",
        "#a"
      ],
      "metadata": {
        "colab": {
          "base_uri": "https://localhost:8080/"
        },
        "id": "NowHmYoxt5IB",
        "outputId": "6272a503-630d-4ae9-8af0-6202a86ef763"
      },
      "execution_count": 7,
      "outputs": [
        {
          "output_type": "execute_result",
          "data": {
            "text/plain": [
              "[1, 5, 10, 25]"
            ]
          },
          "metadata": {},
          "execution_count": 7
        }
      ]
    },
    {
      "cell_type": "code",
      "source": [
        "def aplicando_algor_voraz(monedas, monto):\n",
        "#ordenando de mayor a menor\n",
        "  monedas = sorted(monedas, reverse =True)\n",
        "  resultado = {} #creando un diccionario vacio\n",
        "  for moneda in monedas:\n",
        "    if  monto >= moneda :\n",
        "            cantidad = monto // moneda #division entera\n",
        "            monto -= cantidad * moneda\n",
        "            resultado[moneda] = cantidad\n",
        "  if monto > 0:\n",
        "    print(\"No se puede procesar un cambio con las monedas restantes\")\n",
        "  return resultado\n",
        "#aplicando\n",
        "monedas_disponibles = [1,5,10,25]\n",
        "monto = 47\n",
        "vuelto = aplicando_algor_voraz(monedas_disponibles, monto)\n",
        "print(\"Entonces mostrando el resultado: \")\n",
        "for moneda, cantidad in vuelto.items():\n",
        "  print(f\"{cantidad} monedas de {moneda}\")"
      ],
      "metadata": {
        "colab": {
          "base_uri": "https://localhost:8080/"
        },
        "id": "EU7wcLtJrLs5",
        "outputId": "6ca9c6c5-f9e5-4fc8-eafb-d0f726fc020b"
      },
      "execution_count": 11,
      "outputs": [
        {
          "output_type": "stream",
          "name": "stdout",
          "text": [
            "Entonces mostrando el resultado: \n",
            "1 monedas de 25\n",
            "2 monedas de 10\n",
            "2 monedas de 1\n"
          ]
        }
      ]
    },
    {
      "cell_type": "code",
      "source": [
        "#Funciones Lambda\n",
        "s = lambda x,y : x+y\n",
        "print(s(5,8))"
      ],
      "metadata": {
        "colab": {
          "base_uri": "https://localhost:8080/"
        },
        "id": "tt6nmuE-03ee",
        "outputId": "cb35b7b2-fe38-4516-deba-22be162001f9"
      },
      "execution_count": 12,
      "outputs": [
        {
          "output_type": "stream",
          "name": "stdout",
          "text": [
            "13\n"
          ]
        }
      ]
    },
    {
      "cell_type": "code",
      "source": [
        "t =  [(1,3),(2,1),(5,3)]\n",
        "orden = sorted(t, key = lambda x : x[1])\n",
        "print(orden)"
      ],
      "metadata": {
        "colab": {
          "base_uri": "https://localhost:8080/"
        },
        "id": "Spm1RxbB1t0u",
        "outputId": "bcfa1e73-3699-480d-af64-440a2749a56d"
      },
      "execution_count": 14,
      "outputs": [
        {
          "output_type": "stream",
          "name": "stdout",
          "text": [
            "[(2, 1), (1, 3), (5, 3)]\n"
          ]
        }
      ]
    },
    {
      "cell_type": "markdown",
      "source": [
        "#Ejercicio 02"
      ],
      "metadata": {
        "id": "kkyRvObb2eLF"
      }
    },
    {
      "cell_type": "code",
      "source": [
        "\"\"\"\n",
        "Seleccionar la mayor cantidad de actividades\n",
        "\"\"\""
      ],
      "metadata": {
        "id": "Zc3ByITL2Zj2"
      },
      "execution_count": null,
      "outputs": []
    },
    {
      "cell_type": "code",
      "source": [
        "def seleccionar_actividad(actividades):\n",
        "  #ordenando por tiempo de finalizacion\n",
        "  actividades.sort(key = lambda x: x[1])\n",
        "  resultado = [] #lista vacia\n",
        "  fin_actual = 0 #valor de inicio\n",
        "  for inicio, fin in actividades:\n",
        "    if inicio >= fin_actual:\n",
        "      resultado.append((inicio,fin))\n",
        "      fin_actual = fin\n",
        "  return resultado\n",
        "#agregando valores\n",
        "actividades = [(1,3),(2,5),(4,7),(6,9),(8,10)]\n",
        "print(seleccionar_actividad(actividades))"
      ],
      "metadata": {
        "colab": {
          "base_uri": "https://localhost:8080/"
        },
        "id": "WPXFy59t2nFP",
        "outputId": "ad07b35b-7159-4fbd-da1a-c5ec714f7a64"
      },
      "execution_count": 16,
      "outputs": [
        {
          "output_type": "stream",
          "name": "stdout",
          "text": [
            "[(1, 3), (4, 7), (8, 10)]\n"
          ]
        }
      ]
    }
  ]
}